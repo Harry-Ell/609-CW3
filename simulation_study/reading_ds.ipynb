{
 "cells": [
  {
   "cell_type": "code",
   "execution_count": 221,
   "id": "eaae2bc1",
   "metadata": {},
   "outputs": [],
   "source": [
    "import sys\n",
    "sys.path.append('..')\n",
    "import pickle\n",
    "#harry's code is named \"policy\"\n",
    "with open('../brute_force_VI/brute_force_solution_2.pkl', 'rb') as f:\n",
    "    policy = pickle.load(f)\n",
    "\n",
    "#marks code\n",
    "with open('../layered_VI/layered_sol.pkl', 'rb') as g:\n",
    "    policy_mark = pickle.load(g)\n",
    "\n",
    "with open('../layered_VI/transposed_exact_sol.pkl', 'rb') as h:\n",
    "    policy_mark_good = pickle.load(h)"
   ]
  },
  {
   "cell_type": "code",
   "execution_count": 4,
   "id": "d7436632",
   "metadata": {},
   "outputs": [],
   "source": [
    "import random"
   ]
  },
  {
   "cell_type": "code",
   "execution_count": 219,
   "id": "4d429392",
   "metadata": {},
   "outputs": [],
   "source": [
    "#trying to simulate a game - policy is going to just be harrys one as he got that working\n",
    "\n",
    "#dice roll\n",
    "def roll_die():\n",
    "    return random.randint(1,6)\n",
    "\n",
    "def game_pig(policy_player_1, policy_player_2):\n",
    "    scores = [0,0]\n",
    "    player = 0 \n",
    "\n",
    "    while max(scores) < 100:\n",
    "        turn_total = 0\n",
    "        while True:\n",
    "            if (player == 0 and policy_player_1.get((scores[0], scores[1], turn_total), 0)) or \\\n",
    "               (player == 1 and policy_player_2.get((scores[1], scores[0], turn_total), 0)):\n",
    "                roll = roll_die()\n",
    "                if roll == 1:\n",
    "                    turn_total = 0\n",
    "                    break\n",
    "                else:\n",
    "                    turn_total += roll\n",
    "            else:\n",
    "                scores[player] += turn_total\n",
    "                break\n",
    "\n",
    "        player = 1 - player\n",
    "    return 0 if scores[0] >= 100 else 1 \n",
    "    "
   ]
  },
  {
   "cell_type": "code",
   "execution_count": null,
   "id": "e769b40f",
   "metadata": {},
   "outputs": [
    {
     "name": "stdout",
     "output_type": "stream",
     "text": [
      "Player 0 wins: 5252, Player 1 wins: 4748\n"
     ]
    }
   ],
   "source": [
    "\n",
    "#multiple simulations\n",
    "def simulate_games(n, policy1, policy2):\n",
    "    results = [0,0]\n",
    "    for _ in range(n):\n",
    "        winner = game_pig(policy1, policy2)\n",
    "        results[winner] +=1\n",
    "    return results\n"
   ]
  },
  {
   "cell_type": "code",
   "execution_count": 298,
   "id": "17e417a4",
   "metadata": {},
   "outputs": [
    {
     "name": "stdout",
     "output_type": "stream",
     "text": [
      "Player 0 wins: 5333, Player 1 wins: 4667\n"
     ]
    }
   ],
   "source": [
    "results_mark = simulate_games(10000, policy_mark_good, policy_mark_good)\n",
    "print(f\"Player 0 wins: {results_mark[0]}, Player 1 wins: {results_mark[1]}\")"
   ]
  },
  {
   "cell_type": "code",
   "execution_count": 393,
   "id": "c7791bf7",
   "metadata": {},
   "outputs": [],
   "source": [
    "#sophies policy from the pig competition\n",
    "\n",
    "policy_sophie = {\n",
    "    (my_score, op_score, round_score): (\n",
    "        False if my_score + round_score > 100\n",
    "        else round_score < 20\n",
    "             or my_score >= 71\n",
    "    )\n",
    "    for my_score in range(101)\n",
    "    for op_score in range(101)\n",
    "    for round_score in range(101)\n",
    "}\n"
   ]
  },
  {
   "cell_type": "code",
   "execution_count": null,
   "id": "4eb2ec71",
   "metadata": {},
   "outputs": [
    {
     "data": {
      "text/plain": [
       "np.int64(0)"
      ]
     },
     "execution_count": 280,
     "metadata": {},
     "output_type": "execute_result"
    }
   ],
   "source": [
    "#hold at 20 policy\n",
    "\n",
    "policy_hold_at_20 = {\n",
    "    (my_score, op_score, round_score): (\n",
    "        False if round_score >= 25 or my_score + round_score > 100 else True\n",
    "    )\n",
    "    for my_score in range(101)\n",
    "    for op_score in range(101)\n",
    "    for round_score in range(101)\n",
    "}\n",
    "\n",
    "policy_mark_good[0,0,98]"
   ]
  },
  {
   "cell_type": "code",
   "execution_count": 408,
   "id": "7d76bc6d",
   "metadata": {},
   "outputs": [
    {
     "name": "stdout",
     "output_type": "stream",
     "text": [
      "Player 0 wins: 552, Player 1 wins: 448\n"
     ]
    }
   ],
   "source": [
    "# running optimal against sophies policy\n",
    "# paper says expected result should be optimal winning 58.74% of the time\n",
    "#this is giving lower but i suspect i may be missunderstanding sophies policy\n",
    "\n",
    "results_mark_v_sophie = simulate_games(1000, policy_mark_good, policy_sophie)\n",
    "print(f\"Player 0 wins: {results_mark_v_sophie[0]}, Player 1 wins: {results_mark_v_sophie[1]}\")\n"
   ]
  },
  {
   "cell_type": "code",
   "execution_count": 429,
   "id": "6f8e0e98",
   "metadata": {},
   "outputs": [
    {
     "name": "stdout",
     "output_type": "stream",
     "text": [
      "Player 0 wins: 462, Player 1 wins: 538\n"
     ]
    }
   ],
   "source": [
    "#running sophie vs mark (so hold at 20 unless very close to goal goes first)\n",
    "#paper says p1 should win 47.76\n",
    "#results here are worrying i think\n",
    "\n",
    "results_sophie_v_mark = simulate_games(1000, policy_sophie, policy_mark_good)\n",
    "print(f\"Player 0 wins: {results_sophie_v_mark[0]}, Player 1 wins: {results_sophie_v_mark[1]}\")"
   ]
  },
  {
   "cell_type": "code",
   "execution_count": null,
   "id": "55a99b32",
   "metadata": {},
   "outputs": [],
   "source": []
  },
  {
   "cell_type": "code",
   "execution_count": null,
   "id": "5a71409f",
   "metadata": {},
   "outputs": [],
   "source": []
  }
 ],
 "metadata": {
  "kernelspec": {
   "display_name": "3.12.0",
   "language": "python",
   "name": "python3"
  },
  "language_info": {
   "codemirror_mode": {
    "name": "ipython",
    "version": 3
   },
   "file_extension": ".py",
   "mimetype": "text/x-python",
   "name": "python",
   "nbconvert_exporter": "python",
   "pygments_lexer": "ipython3",
   "version": "3.12.0"
  }
 },
 "nbformat": 4,
 "nbformat_minor": 5
}
