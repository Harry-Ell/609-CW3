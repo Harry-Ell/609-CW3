{
 "cells": [
  {
   "cell_type": "code",
   "execution_count": null,
   "id": "eaae2bc1",
   "metadata": {},
   "outputs": [],
   "source": [
    "import sys\n",
    "sys.path.append('..')\n",
    "import pickle\n",
    "#harry's code is named \"policy\"\n",
    "with open('../brute_force_VI/brute_force_solution_2.pkl', 'rb') as f:\n",
    "    policy = pickle.load(f)\n",
    "\n",
    "#marks code\n",
    "with open('../layered_VI/layered_sol.pkl', 'rb') as g:\n",
    "    policy_mark = pickle.load(g)"
   ]
  },
  {
   "cell_type": "code",
   "execution_count": 10,
   "id": "aeb550c2",
   "metadata": {},
   "outputs": [
    {
     "data": {
      "text/plain": [
       "np.int64(1)"
      ]
     },
     "execution_count": 10,
     "metadata": {},
     "output_type": "execute_result"
    }
   ],
   "source": [
    "# policy[(i,j,j)] i = opponents score, j = player score, k = turn total \n",
    "# 1 = roll again \n",
    "# 0 = stick \n",
    "policy_mark[(5,5,4)]"
   ]
  },
  {
   "cell_type": "code",
   "execution_count": 4,
   "id": "d7436632",
   "metadata": {},
   "outputs": [],
   "source": [
    "import random"
   ]
  },
  {
   "cell_type": "code",
   "execution_count": 211,
   "id": "4d429392",
   "metadata": {},
   "outputs": [],
   "source": [
    "#trying to simulate a game - policy is going to just be harrys one as he got that working\n",
    "\n",
    "#dice roll\n",
    "def roll_die():\n",
    "    return random.randint(1,6)\n",
    "\n",
    "def game_pig(policy_player_1, policy_player_2):\n",
    "    scores = [0,0]\n",
    "    player = 0 \n",
    "\n",
    "    while max(scores) < 100:\n",
    "        turn_total = 0\n",
    "        while True:\n",
    "            if (player == 0 and policy_player_1.get((scores[0], scores[1], turn_total), 0)) or \\\n",
    "               (player == 1 and policy_player_2.get((scores[1], scores[0], turn_total), 0)):\n",
    "                roll = roll_die()\n",
    "                if roll == 1:\n",
    "                    turn_total = 0\n",
    "                    break\n",
    "                else:\n",
    "                    turn_total += roll\n",
    "            else:\n",
    "                scores[player] += turn_total\n",
    "                break\n",
    "\n",
    "        player = 1 - player\n",
    "    return 0 if scores[0] >= 100 else 1 \n",
    "    "
   ]
  },
  {
   "cell_type": "code",
   "execution_count": 212,
   "id": "b8b3c855",
   "metadata": {},
   "outputs": [
    {
     "data": {
      "text/plain": [
       "np.int64(0)"
      ]
     },
     "execution_count": 212,
     "metadata": {},
     "output_type": "execute_result"
    }
   ],
   "source": [
    "game_pig(policy, policy)\n",
    "\n",
    "\n",
    "policy_mark[4,5,25]"
   ]
  },
  {
   "cell_type": "code",
   "execution_count": 213,
   "id": "e769b40f",
   "metadata": {},
   "outputs": [
    {
     "name": "stdout",
     "output_type": "stream",
     "text": [
      "Player 0 wins: 4989, Player 1 wins: 5011\n"
     ]
    }
   ],
   "source": [
    "def simulate_games(n, policy1, policy2):\n",
    "    results = [0,0]\n",
    "    for _ in range(n):\n",
    "        winner = game_pig(policy1, policy2)\n",
    "        results[winner] +=1\n",
    "    return results\n",
    "\n",
    "results_harry = simulate_games(10000, policy, policy)\n",
    "print(f\"Player 0 wins: {results_harry[0]}, Player 1 wins: {results_harry[1]}\")"
   ]
  },
  {
   "cell_type": "code",
   "execution_count": 215,
   "id": "17e417a4",
   "metadata": {},
   "outputs": [
    {
     "name": "stdout",
     "output_type": "stream",
     "text": [
      "Player 0 wins: 5275, Player 1 wins: 4725\n"
     ]
    }
   ],
   "source": [
    "results_mark = simulate_games(10000, policy_mark, policy_mark)\n",
    "print(f\"Player 0 wins: {results_mark[0]}, Player 1 wins: {results_mark[1]}\")"
   ]
  },
  {
   "cell_type": "code",
   "execution_count": null,
   "id": "c7791bf7",
   "metadata": {},
   "outputs": [
    {
     "data": {
      "text/plain": [
       "1"
      ]
     },
     "execution_count": 104,
     "metadata": {},
     "output_type": "execute_result"
    }
   ],
   "source": [
    "#used sophies policy from the pig competition\n",
    "\n",
    "policy_sophie = {\n",
    "    (my_score, op_score, round_score): (\n",
    "        False if my_score + round_score > 100\n",
    "        else round_score < 21 + round((op_score - my_score) / 8) + 1\n",
    "             or my_score >= 71\n",
    "             or op_score >= 71\n",
    "    )\n",
    "    for my_score in range(101)\n",
    "    for op_score in range(101)\n",
    "    for round_score in range(101)\n",
    "}\n",
    "policy_sophie[4,4,5]\n",
    "\n",
    "game_pig(policy_sophie, policy_sophie)"
   ]
  },
  {
   "cell_type": "code",
   "execution_count": 218,
   "id": "bd4a0c5a",
   "metadata": {},
   "outputs": [
    {
     "name": "stdout",
     "output_type": "stream",
     "text": [
      "Player 0 wins: 661, Player 1 wins: 339\n"
     ]
    }
   ],
   "source": [
    "results_sophie = simulate_games(1000, policy_sophie, policy_mark)\n",
    "print(f\"Player 0 wins: {results_sophie[0]}, Player 1 wins: {results_sophie[1]}\")\n"
   ]
  },
  {
   "cell_type": "code",
   "execution_count": 207,
   "id": "4eb2ec71",
   "metadata": {},
   "outputs": [
    {
     "data": {
      "text/plain": [
       "False"
      ]
     },
     "execution_count": 207,
     "metadata": {},
     "output_type": "execute_result"
    }
   ],
   "source": [
    "policy_hold_at_20 = {\n",
    "    (my_score, op_score, round_score): (\n",
    "        False if round_score >= 20 or my_score + round_score > 100 else True\n",
    "    )\n",
    "    for my_score in range(101)\n",
    "    for op_score in range(101)\n",
    "    for round_score in range(101)\n",
    "}\n",
    "\n",
    "policy_hold_at_20[4, 4,21]"
   ]
  },
  {
   "cell_type": "code",
   "execution_count": 206,
   "id": "7d76bc6d",
   "metadata": {},
   "outputs": [
    {
     "name": "stdout",
     "output_type": "stream",
     "text": [
      "Player 0 wins: 586, Player 1 wins: 414\n"
     ]
    }
   ],
   "source": [
    "results_hold_20 = simulate_games(1000, policy_mark, policy_hold_at_20)\n",
    "print(f\"Player 0 wins: {results_hold_20[0]}, Player 1 wins: {results_hold_20[1]}\")\n"
   ]
  }
 ],
 "metadata": {
  "kernelspec": {
   "display_name": "3.12.0",
   "language": "python",
   "name": "python3"
  },
  "language_info": {
   "codemirror_mode": {
    "name": "ipython",
    "version": 3
   },
   "file_extension": ".py",
   "mimetype": "text/x-python",
   "name": "python",
   "nbconvert_exporter": "python",
   "pygments_lexer": "ipython3",
   "version": "3.12.0"
  }
 },
 "nbformat": 4,
 "nbformat_minor": 5
}
