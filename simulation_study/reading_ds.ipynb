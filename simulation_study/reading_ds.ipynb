{
 "cells": [
  {
   "cell_type": "code",
   "execution_count": 475,
   "id": "eaae2bc1",
   "metadata": {},
   "outputs": [],
   "source": [
    "import sys\n",
    "sys.path.append('..')\n",
    "import pickle\n",
    "#harry's code is named \"policy\"\n",
    "with open('../brute_force_VI/transposed_brute_force_sol.pkl', 'rb') as f:\n",
    "    policy_harry = pickle.load(f)\n",
    "\n",
    "#marks code\n",
    "with open('../layered_VI/layered_sol.pkl', 'rb') as g:\n",
    "    policy_mark = pickle.load(g)\n",
    "\n",
    "with open('../layered_VI/transposed_exact_sol.pkl', 'rb') as h:\n",
    "    policy_mark_good = pickle.load(h)"
   ]
  },
  {
   "cell_type": "code",
   "execution_count": 483,
   "id": "d7436632",
   "metadata": {},
   "outputs": [],
   "source": [
    "import random"
   ]
  },
  {
   "cell_type": "code",
   "execution_count": 484,
   "id": "4d429392",
   "metadata": {},
   "outputs": [],
   "source": [
    "#trying to simulate a game - policy is going to just be harrys one as he got that working\n",
    "\n",
    "#dice roll\n",
    "def roll_die():\n",
    "    return random.randint(1,6)\n",
    "\n",
    "def game_pig(policy_player_1, policy_player_2):\n",
    "    scores = [0,0]\n",
    "    player = 0 \n",
    "\n",
    "    while max(scores) < 100:\n",
    "        turn_total = 0\n",
    "        while True:\n",
    "            if (player == 0 and policy_player_1.get((scores[0], scores[1], turn_total), 0)) or \\\n",
    "               (player == 1 and policy_player_2.get((scores[1], scores[0], turn_total), 0)):\n",
    "                roll = roll_die()\n",
    "                if roll == 1:\n",
    "                    turn_total = 0\n",
    "                    break\n",
    "                else:\n",
    "                    turn_total += roll\n",
    "            else:\n",
    "                scores[player] += turn_total\n",
    "                break\n",
    "\n",
    "        player = 1 - player\n",
    "    return 0 if scores[0] >= 100 else 1 \n",
    "    "
   ]
  },
  {
   "cell_type": "code",
   "execution_count": 485,
   "id": "e769b40f",
   "metadata": {},
   "outputs": [],
   "source": [
    "\n",
    "#multiple simulations\n",
    "def simulate_games(n, policy1, policy2):\n",
    "    results = [0,0]\n",
    "    for _ in range(n):\n",
    "        winner = game_pig(policy1, policy2)\n",
    "        results[winner] +=1\n",
    "    return results\n"
   ]
  },
  {
   "cell_type": "code",
   "execution_count": null,
   "id": "17e417a4",
   "metadata": {},
   "outputs": [
    {
     "name": "stdout",
     "output_type": "stream",
     "text": [
      "Player 0 wins: 530412, Player 1 wins: 469588\n",
      "0.530412\n"
     ]
    }
   ],
   "source": [
    "results_mark = simulate_games(1000000, policy_mark_good, policy_mark_good)\n",
    "print(f\"Player 0 wins: {results_mark[0]}, Player 1 wins: {results_mark[1]}\")\n",
    "win_rate = results_mark[0]/1000000\n",
    "print(win_rate) #got 0.530412 - this lines up with the paper's value 0.5306"
   ]
  },
  {
   "cell_type": "code",
   "execution_count": 487,
   "id": "30e5b648",
   "metadata": {},
   "outputs": [
    {
     "name": "stdout",
     "output_type": "stream",
     "text": [
      "Player 0 wins: 53241, Player 1 wins: 46759\n"
     ]
    }
   ],
   "source": [
    "results_harry = simulate_games(100000, policy_harry, policy_harry)\n",
    "print(f\"Player 0 wins: {results_harry[0]}, Player 1 wins: {results_harry[1]}\")"
   ]
  },
  {
   "cell_type": "code",
   "execution_count": 488,
   "id": "04342a32",
   "metadata": {},
   "outputs": [
    {
     "name": "stdout",
     "output_type": "stream",
     "text": [
      "Player 0 wins: 5306, Player 1 wins: 4694\n"
     ]
    }
   ],
   "source": [
    "results_mark = simulate_games(10000, policy_harry, policy_mark_good)\n",
    "print(f\"Player 0 wins: {results_mark[0]}, Player 1 wins: {results_mark[1]}\")"
   ]
  },
  {
   "cell_type": "code",
   "execution_count": 489,
   "id": "648dc017",
   "metadata": {},
   "outputs": [
    {
     "name": "stdout",
     "output_type": "stream",
     "text": [
      "Player 0 wins: 5290, Player 1 wins: 4710\n"
     ]
    }
   ],
   "source": [
    "results_mark = simulate_games(10000, policy_mark_good, policy_harry)\n",
    "print(f\"Player 0 wins: {results_mark[0]}, Player 1 wins: {results_mark[1]}\")"
   ]
  },
  {
   "cell_type": "code",
   "execution_count": 490,
   "id": "c7791bf7",
   "metadata": {},
   "outputs": [],
   "source": [
    "#sophies policy from the pig competition\n",
    "\n",
    "policy_sophie = {\n",
    "    (my_score, op_score, round_score): (\n",
    "        False if my_score + round_score > 100\n",
    "        else round_score < 20\n",
    "             or my_score >= 71\n",
    "    )\n",
    "    for my_score in range(101)\n",
    "    for op_score in range(101)\n",
    "    for round_score in range(101)\n",
    "}\n"
   ]
  },
  {
   "cell_type": "code",
   "execution_count": 491,
   "id": "4eb2ec71",
   "metadata": {},
   "outputs": [],
   "source": [
    "#hold at 20 policy\n",
    "\n",
    "policy_hold_at_20 = {\n",
    "    (my_score, op_score, round_score): (\n",
    "        False if round_score >= 20 or my_score + round_score > 100 else True\n",
    "    )\n",
    "    for my_score in range(101)\n",
    "    for op_score in range(101)\n",
    "    for round_score in range(101)\n",
    "}"
   ]
  },
  {
   "cell_type": "code",
   "execution_count": 492,
   "id": "7d76bc6d",
   "metadata": {},
   "outputs": [
    {
     "name": "stdout",
     "output_type": "stream",
     "text": [
      "Player 0 wins: 57673, Player 1 wins: 42327\n"
     ]
    }
   ],
   "source": [
    "# running optimal against sophies policy\n",
    "# paper says expected result should be optimal winning 58.74% of the time\n",
    "\n",
    "results_mark_v_sophie = simulate_games(100000, policy_mark_good, policy_sophie)\n",
    "print(f\"Player 0 wins: {results_mark_v_sophie[0]}, Player 1 wins: {results_mark_v_sophie[1]}\")\n"
   ]
  },
  {
   "cell_type": "code",
   "execution_count": 498,
   "id": "6f8e0e98",
   "metadata": {},
   "outputs": [
    {
     "name": "stdout",
     "output_type": "stream",
     "text": [
      "Player 0 wins: 48592, Player 1 wins: 51408\n"
     ]
    }
   ],
   "source": [
    "#running sophie vs mark (so hold at 20 unless very close to goal goes first)\n",
    "#paper says p1 should win 47.76\n",
    "\n",
    "results_sophie_v_mark = simulate_games(100000, policy_sophie, policy_mark_good)\n",
    "print(f\"Player 0 wins: {results_sophie_v_mark[0]}, Player 1 wins: {results_sophie_v_mark[1]}\")"
   ]
  },
  {
   "cell_type": "code",
   "execution_count": 36,
   "id": "55a99b32",
   "metadata": {},
   "outputs": [
    {
     "name": "stdout",
     "output_type": "stream",
     "text": [
      "Player 0 wins: 57617, Player 1 wins: 42383\n",
      "0.57617\n",
      "[0.5761572505031675, 0.5761827494968325]\n"
     ]
    },
    {
     "data": {
      "text/plain": [
       "2.5"
      ]
     },
     "execution_count": 36,
     "metadata": {},
     "output_type": "execute_result"
    }
   ],
   "source": [
    "#optimal vs hold at 20\n",
    "#optimal should win more than 58% of the time i think - error in paper\n",
    "import statistics\n",
    "import math\n",
    "\n",
    "results_mark_v_20 = simulate_games(100000, policy_mark_good, policy_hold_at_20)\n",
    "print(f\"Player 0 wins: {results_mark_v_20[0]}, Player 1 wins: {results_mark_v_20[1]}\")\n",
    "win_rate1 = results_mark_v_20[0]/100000\n",
    "raw_res = [0]*results_mark_v_20[0]\n",
    "raw_res.extend([1]*results_mark_v_20[1])\n",
    "CI_low = win_rate1 - 2.58*math.sqrt(statistics.variance(raw_res))/100000\n",
    "CI_high = win_rate1 + 2.58*math.sqrt(statistics.variance(raw_res))/100000\n",
    "print(win_rate1)\n",
    "print([CI_low, CI_high])\n",
    "2.5"
   ]
  },
  {
   "cell_type": "code",
   "execution_count": 30,
   "id": "c80fe9bc",
   "metadata": {},
   "outputs": [
    {
     "data": {
      "text/plain": [
       "0.08271982794275788"
      ]
     },
     "execution_count": 30,
     "metadata": {},
     "output_type": "execute_result"
    }
   ],
   "source": [
    "list1 = [1]*1000\n",
    "list1.extend([0]*100)\n",
    "statistics.variance(list1)"
   ]
  },
  {
   "cell_type": "code",
   "execution_count": 38,
   "id": "799da2b4",
   "metadata": {},
   "outputs": [
    {
     "name": "stdout",
     "output_type": "stream",
     "text": [
      "Player 0 wins: 48684, Player 1 wins: 51316\n",
      "0.48684\n",
      "[0.48682710440448446, 0.48685289559551553]\n"
     ]
    }
   ],
   "source": [
    "#hold at 20 vs optimal - error in paper\n",
    "\n",
    "results_20_v_mark = simulate_games(100000, policy_hold_at_20, policy_mark_good)\n",
    "print(f\"Player 0 wins: {results_20_v_mark[0]}, Player 1 wins: {results_20_v_mark[1]}\")\n",
    "win_rate2 = results_20_v_mark[0]/100000\n",
    "raw_res2 = [0]*results_20_v_mark[0]\n",
    "raw_res2.extend([1]*results_20_v_mark[1])\n",
    "CI_low2 = win_rate2 - 2.58*math.sqrt(statistics.variance(raw_res2))/100000\n",
    "CI_high2 = win_rate2 + 2.58*math.sqrt(statistics.variance(raw_res2))/100000\n",
    "print(win_rate2)\n",
    "print([CI_low2, CI_high2])"
   ]
  },
  {
   "cell_type": "code",
   "execution_count": null,
   "id": "5a71409f",
   "metadata": {},
   "outputs": [],
   "source": []
  }
 ],
 "metadata": {
  "kernelspec": {
   "display_name": "3.12.0",
   "language": "python",
   "name": "python3"
  },
  "language_info": {
   "codemirror_mode": {
    "name": "ipython",
    "version": 3
   },
   "file_extension": ".py",
   "mimetype": "text/x-python",
   "name": "python",
   "nbconvert_exporter": "python",
   "pygments_lexer": "ipython3",
   "version": "3.12.0"
  }
 },
 "nbformat": 4,
 "nbformat_minor": 5
}
