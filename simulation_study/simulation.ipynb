{
 "cells": [
  {
   "cell_type": "code",
   "execution_count": 5,
   "id": "c632da87",
   "metadata": {},
   "outputs": [],
   "source": [
    "import sys\n",
    "sys.path.append('..')\n",
    "import pickle\n",
    "with open('../brute_force_VI/brute_force_solution_2.pkl', 'rb') as f:\n",
    "    policy = pickle.load(f)\n",
    "\n",
    "with open('../layered_VI/layered_sol.pkl', 'rb') as g:\n",
    "    policy_mark = pickle.load(g)\n",
    "\n",
    "with open('../layered_VI/transposed_exact_sol.pkl', 'rb') as h:\n",
    "    policy_mark_good = pickle.load(h)"
   ]
  },
  {
   "cell_type": "code",
   "execution_count": 6,
   "id": "e8632fa2",
   "metadata": {},
   "outputs": [],
   "source": [
    "from numpy import random"
   ]
  },
  {
   "cell_type": "code",
   "execution_count": 7,
   "id": "40bf274e",
   "metadata": {},
   "outputs": [],
   "source": [
    "def turn(state, pol):\n",
    "    roll = 0\n",
    "    while (roll != 1 and pol[state][0][0] == 1): #while roll not one and policy is to roll\n",
    "        roll = random.randint(1, 6) #roll between 1 and 6\n",
    "        state = (state[0], state[1], state[2] + roll) #add the roll score to turn\n",
    "    if (roll != 1):\n",
    "        state = (state[0] + state[2], state[1], 0) #if final roll != 1, add turn to \"your\" score\n",
    "    return((state[1], state[0], 0)) #return state - flipping \"your\" and \"your opponent\" scores"
   ]
  },
  {
   "cell_type": "code",
   "execution_count": 8,
   "id": "9cc7330b",
   "metadata": {},
   "outputs": [],
   "source": [
    "def game(policy1, policy2): #policy of first and second player respectively\n",
    "    state = (0, 0, 0)\n",
    "    while (True):\n",
    "        state = turn(state, policy1)\n",
    "        if (state[1] >= 100): #Policy1 has won\n",
    "            return({\"winner\": 1,\n",
    "                    \"final_state\" : (state[1], state[0])})\n",
    "        state = turn(state, policy2)\n",
    "        if (state[1] >= 100): #Policy2 has won\n",
    "            return({\"winner\": 0,\n",
    "                    \"final_state\" : (state[0], state[1])})\n"
   ]
  },
  {
   "cell_type": "code",
   "execution_count": 9,
   "id": "02bf81d7",
   "metadata": {},
   "outputs": [
    {
     "data": {
      "text/plain": [
       "0.4996"
      ]
     },
     "execution_count": 9,
     "metadata": {},
     "output_type": "execute_result"
    }
   ],
   "source": [
    "reps = 10000\n",
    "win_sum = 0\n",
    "for i in range(reps):\n",
    "    win_sum += game(policy, policy)[\"winner\"]\n",
    "    i += 1\n",
    "win_sum/reps"
   ]
  },
  {
   "cell_type": "code",
   "execution_count": null,
   "id": "33ac8a31",
   "metadata": {},
   "outputs": [
    {
     "ename": "IndexError",
     "evalue": "invalid index to scalar variable.",
     "output_type": "error",
     "traceback": [
      "\u001b[31m---------------------------------------------------------------------------\u001b[39m",
      "\u001b[31mIndexError\u001b[39m                                Traceback (most recent call last)",
      "\u001b[36mCell\u001b[39m\u001b[36m \u001b[39m\u001b[32mIn[10]\u001b[39m\u001b[32m, line 5\u001b[39m\n\u001b[32m      3\u001b[39m win_sum = \u001b[32m0\u001b[39m\n\u001b[32m      4\u001b[39m \u001b[38;5;28;01mfor\u001b[39;00m i \u001b[38;5;129;01min\u001b[39;00m \u001b[38;5;28mrange\u001b[39m(reps):\n\u001b[32m----> \u001b[39m\u001b[32m5\u001b[39m     win_sum += \u001b[43mgame\u001b[49m\u001b[43m(\u001b[49m\u001b[43mpolicy_mark_good\u001b[49m\u001b[43m,\u001b[49m\u001b[43m \u001b[49m\u001b[43mpolicy_mark_good\u001b[49m\u001b[43m)\u001b[49m[\u001b[33m\"\u001b[39m\u001b[33mwinner\u001b[39m\u001b[33m\"\u001b[39m]\n\u001b[32m      6\u001b[39m     i += \u001b[32m1\u001b[39m\n\u001b[32m      7\u001b[39m win_sum/reps\n",
      "\u001b[36mCell\u001b[39m\u001b[36m \u001b[39m\u001b[32mIn[8]\u001b[39m\u001b[32m, line 4\u001b[39m, in \u001b[36mgame\u001b[39m\u001b[34m(policy1, policy2)\u001b[39m\n\u001b[32m      2\u001b[39m state = (\u001b[32m0\u001b[39m, \u001b[32m0\u001b[39m, \u001b[32m0\u001b[39m)\n\u001b[32m      3\u001b[39m \u001b[38;5;28;01mwhile\u001b[39;00m (\u001b[38;5;28;01mTrue\u001b[39;00m):\n\u001b[32m----> \u001b[39m\u001b[32m4\u001b[39m     state = \u001b[43mturn\u001b[49m\u001b[43m(\u001b[49m\u001b[43mstate\u001b[49m\u001b[43m,\u001b[49m\u001b[43m \u001b[49m\u001b[43mpolicy1\u001b[49m\u001b[43m)\u001b[49m\n\u001b[32m      5\u001b[39m     \u001b[38;5;28;01mif\u001b[39;00m (state[\u001b[32m1\u001b[39m] >= \u001b[32m100\u001b[39m): \u001b[38;5;66;03m#Policy1 has won\u001b[39;00m\n\u001b[32m      6\u001b[39m         \u001b[38;5;28;01mreturn\u001b[39;00m({\u001b[33m\"\u001b[39m\u001b[33mwinner\u001b[39m\u001b[33m\"\u001b[39m: \u001b[32m1\u001b[39m,\n\u001b[32m      7\u001b[39m                 \u001b[33m\"\u001b[39m\u001b[33mfinal_state\u001b[39m\u001b[33m\"\u001b[39m : (state[\u001b[32m1\u001b[39m], state[\u001b[32m0\u001b[39m])})\n",
      "\u001b[36mCell\u001b[39m\u001b[36m \u001b[39m\u001b[32mIn[7]\u001b[39m\u001b[32m, line 3\u001b[39m, in \u001b[36mturn\u001b[39m\u001b[34m(state, pol)\u001b[39m\n\u001b[32m      1\u001b[39m \u001b[38;5;28;01mdef\u001b[39;00m\u001b[38;5;250m \u001b[39m\u001b[34mturn\u001b[39m(state, pol):\n\u001b[32m      2\u001b[39m     roll = \u001b[32m0\u001b[39m\n\u001b[32m----> \u001b[39m\u001b[32m3\u001b[39m     \u001b[38;5;28;01mwhile\u001b[39;00m (roll != \u001b[32m1\u001b[39m \u001b[38;5;129;01mand\u001b[39;00m \u001b[43mpol\u001b[49m\u001b[43m[\u001b[49m\u001b[43mstate\u001b[49m\u001b[43m]\u001b[49m\u001b[43m[\u001b[49m\u001b[32;43m0\u001b[39;49m\u001b[43m]\u001b[49m[\u001b[32m0\u001b[39m] == \u001b[32m1\u001b[39m): \u001b[38;5;66;03m#while roll not one and policy is to roll\u001b[39;00m\n\u001b[32m      4\u001b[39m         roll = random.randint(\u001b[32m1\u001b[39m, \u001b[32m6\u001b[39m) \u001b[38;5;66;03m#roll between 1 and 6\u001b[39;00m\n\u001b[32m      5\u001b[39m         state = (state[\u001b[32m0\u001b[39m], state[\u001b[32m1\u001b[39m], state[\u001b[32m2\u001b[39m] + roll) \u001b[38;5;66;03m#add the roll score to turn\u001b[39;00m\n",
      "\u001b[31mIndexError\u001b[39m: invalid index to scalar variable."
     ]
    }
   ],
   "source": [
    "#this is running jasmines simulation pitting marks code against itself\n",
    "reps = 10000\n",
    "win_sum = 0\n",
    "for i in range(reps):\n",
    "    win_sum += game(policy_mark_good, policy_mark_good)[\"winner\"]\n",
    "    i += 1\n",
    "win_sum/reps\n",
    "\n",
    "#this runs into an error; i think it is expecting the policy output to the in a different form"
   ]
  }
 ],
 "metadata": {
  "kernelspec": {
   "display_name": "env",
   "language": "python",
   "name": "python3"
  },
  "language_info": {
   "codemirror_mode": {
    "name": "ipython",
    "version": 3
   },
   "file_extension": ".py",
   "mimetype": "text/x-python",
   "name": "python",
   "nbconvert_exporter": "python",
   "pygments_lexer": "ipython3",
   "version": "3.12.0"
  }
 },
 "nbformat": 4,
 "nbformat_minor": 5
}
