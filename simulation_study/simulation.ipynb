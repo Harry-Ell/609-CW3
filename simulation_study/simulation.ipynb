{
 "cells": [
  {
   "cell_type": "code",
   "execution_count": 3,
   "id": "c632da87",
   "metadata": {},
   "outputs": [],
   "source": [
    "import sys\n",
    "sys.path.append('..')\n",
    "import pickle\n",
    "with open('../brute_force_VI/brute_force_solution_2.pkl', 'rb') as f:\n",
    "    policy = pickle.load(f)\n",
    "\n",
    "with open('../layered_VI/layered_sol.pkl', 'rb') as g:\n",
    "    policy_mark = pickle.load(g)\n",
    "\n",
    "with open('../layered_VI/transposed_exact_sol.pkl', 'rb') as h:\n",
    "    policy_mark_good = pickle.load(h)"
   ]
  },
  {
   "cell_type": "code",
   "execution_count": 2,
   "id": "e8632fa2",
   "metadata": {},
   "outputs": [],
   "source": [
    "from numpy import random"
   ]
  },
  {
   "cell_type": "code",
   "execution_count": 3,
   "id": "40bf274e",
   "metadata": {},
   "outputs": [],
   "source": [
    "def turn(state, pol):\n",
    "    roll = 0\n",
    "    while (roll != 1 and pol[state][0][0] == 1): #while roll not one and policy is to roll\n",
    "        roll = random.randint(1, 6) #roll between 1 and 6\n",
    "        state = (state[0], state[1], state[2] + roll) #add the roll score to turn\n",
    "    if (roll != 1):\n",
    "        state = (state[0] + state[2], state[1], 0) #if final roll != 1, add turn to \"your\" score\n",
    "    return((state[1], state[0], 0)) #return state - flipping \"your\" and \"your opponent\" scores"
   ]
  },
  {
   "cell_type": "code",
   "execution_count": 4,
   "id": "9cc7330b",
   "metadata": {},
   "outputs": [],
   "source": [
    "def game(policy1, policy2): #policy of first and second player respectively\n",
    "    state = (0, 0, 0)\n",
    "    while (True):\n",
    "        state = turn(state, policy1)\n",
    "        if (state[1] >= 100): #Policy1 has won\n",
    "            return({\"winner\": 1,\n",
    "                    \"final_state\" : (state[1], state[0])})\n",
    "        state = turn(state, policy2)\n",
    "        if (state[1] >= 100): #Policy2 has won\n",
    "            return({\"winner\": 0,\n",
    "                    \"final_state\" : (state[0], state[1])})\n"
   ]
  },
  {
   "cell_type": "code",
   "execution_count": 6,
   "id": "02bf81d7",
   "metadata": {},
   "outputs": [
    {
     "data": {
      "text/plain": [
       "0.5175"
      ]
     },
     "execution_count": 6,
     "metadata": {},
     "output_type": "execute_result"
    }
   ],
   "source": [
    "reps = 10000\n",
    "win_sum = 0\n",
    "for i in range(reps):\n",
    "    win_sum += game(policy, policy)[\"winner\"]\n",
    "    i += 1\n",
    "win_sum/reps"
   ]
  }
 ],
 "metadata": {
  "kernelspec": {
   "display_name": "3.12.0",
   "language": "python",
   "name": "python3"
  },
  "language_info": {
   "codemirror_mode": {
    "name": "ipython",
    "version": 3
   },
   "file_extension": ".py",
   "mimetype": "text/x-python",
   "name": "python",
   "nbconvert_exporter": "python",
   "pygments_lexer": "ipython3",
   "version": "3.12.0"
  }
 },
 "nbformat": 4,
 "nbformat_minor": 5
}
