{
 "cells": [
  {
   "cell_type": "markdown",
   "id": "4cc9e0af",
   "metadata": {},
   "source": [
    "# Playing around with the problem "
   ]
  },
  {
   "cell_type": "code",
   "execution_count": 1,
   "id": "2c270f9d",
   "metadata": {},
   "outputs": [],
   "source": [
    "# my packages\n",
    "from brute_force_VI.probability_generator import Probability_Generator\n",
    "from brute_force_VI.rewards_generator import Rewarder\n",
    "from brute_force_VI.MDP import GenericMDP"
   ]
  },
  {
   "cell_type": "code",
   "execution_count": 2,
   "id": "523bce8c",
   "metadata": {},
   "outputs": [],
   "source": [
    "ps = Probability_Generator(6, 100)()\n",
    "rs = Rewarder(6, 100)()"
   ]
  },
  {
   "cell_type": "markdown",
   "id": "42664296",
   "metadata": {},
   "source": [
    "may aswell just see if this works "
   ]
  },
  {
   "cell_type": "code",
   "execution_count": 3,
   "id": "3da6a2a3",
   "metadata": {},
   "outputs": [],
   "source": [
    "# we could tidy up the api a lot to make it so that we dont have to define all these extra things \n",
    "game_size = 100\n",
    "dice_size = 6\n",
    "states = [(i, j, k) for i in range(game_size) for j in range(game_size) for k in range(game_size)]\n",
    "actions = [0, 1]\n",
    "discount_rate = 1\n",
    "max_iterations = 100\n"
   ]
  },
  {
   "cell_type": "code",
   "execution_count": 4,
   "id": "b10e9ec7",
   "metadata": {},
   "outputs": [
    {
     "ename": "KeyboardInterrupt",
     "evalue": "",
     "output_type": "error",
     "traceback": [
      "\u001b[31m---------------------------------------------------------------------------\u001b[39m",
      "\u001b[31mKeyboardInterrupt\u001b[39m                         Traceback (most recent call last)",
      "\u001b[36mCell\u001b[39m\u001b[36m \u001b[39m\u001b[32mIn[4]\u001b[39m\u001b[32m, line 1\u001b[39m\n\u001b[32m----> \u001b[39m\u001b[32m1\u001b[39m value_iteration = \u001b[43mGenericMDP\u001b[49m\u001b[43m(\u001b[49m\u001b[43mstates\u001b[49m\u001b[43m=\u001b[49m\u001b[43mstates\u001b[49m\u001b[43m,\u001b[49m\u001b[43m \u001b[49m\n\u001b[32m      2\u001b[39m \u001b[43m                 \u001b[49m\u001b[43mactions\u001b[49m\u001b[43m \u001b[49m\u001b[43m=\u001b[49m\u001b[43m \u001b[49m\u001b[43mactions\u001b[49m\u001b[43m,\u001b[49m\n\u001b[32m      3\u001b[39m \u001b[43m                 \u001b[49m\u001b[43mprobabilities\u001b[49m\u001b[43m=\u001b[49m\u001b[43mps\u001b[49m\u001b[43m,\u001b[49m\u001b[43m \u001b[49m\n\u001b[32m      4\u001b[39m \u001b[43m                 \u001b[49m\u001b[43mrewards\u001b[49m\u001b[43m=\u001b[49m\u001b[43mrs\u001b[49m\u001b[43m,\u001b[49m\u001b[43m \u001b[49m\n\u001b[32m      5\u001b[39m \u001b[43m                 \u001b[49m\u001b[43mdiscount_rate\u001b[49m\u001b[43m=\u001b[49m\u001b[43mdiscount_rate\u001b[49m\u001b[43m,\u001b[49m\u001b[43m \u001b[49m\n\u001b[32m      6\u001b[39m \u001b[43m                 \u001b[49m\u001b[43mmax_iterations\u001b[49m\u001b[43m=\u001b[49m\u001b[43mmax_iterations\u001b[49m\u001b[43m)\u001b[49m\u001b[43m(\u001b[49m\u001b[43m)\u001b[49m\n",
      "\u001b[36mFile \u001b[39m\u001b[32mc:\\Users\\ellinghh\\Documents\\609-CW3\\brute_force_VI\\MDP.py:112\u001b[39m, in \u001b[36mGenericMDP.__call__\u001b[39m\u001b[34m(self)\u001b[39m\n\u001b[32m    107\u001b[39m \u001b[38;5;28;01mdef\u001b[39;00m\u001b[38;5;250m \u001b[39m\u001b[34m__call__\u001b[39m(\u001b[38;5;28mself\u001b[39m):\n\u001b[32m    108\u001b[39m \u001b[38;5;250m    \u001b[39m\u001b[33;03m'''\u001b[39;00m\n\u001b[32m    109\u001b[39m \u001b[33;03m    Call funciton, allowing us to interact with instances of the class like a function. \u001b[39;00m\n\u001b[32m    110\u001b[39m \u001b[33;03m    '''\u001b[39;00m\n\u001b[32m--> \u001b[39m\u001b[32m112\u001b[39m     \u001b[38;5;28mself\u001b[39m.values = \u001b[38;5;28;43mself\u001b[39;49m\u001b[43m.\u001b[49m\u001b[43m_value_iteration\u001b[49m\u001b[43m(\u001b[49m\u001b[43m)\u001b[49m\n\u001b[32m    113\u001b[39m     \u001b[38;5;28mself\u001b[39m.policy = \u001b[38;5;28mself\u001b[39m._extract_policy()\n\u001b[32m    115\u001b[39m     \u001b[38;5;28;01mreturn\u001b[39;00m \u001b[38;5;28mself\u001b[39m.policy, \u001b[38;5;28mself\u001b[39m.values\n",
      "\u001b[36mFile \u001b[39m\u001b[32mc:\\Users\\ellinghh\\Documents\\609-CW3\\brute_force_VI\\MDP.py:74\u001b[39m, in \u001b[36mGenericMDP._value_iteration\u001b[39m\u001b[34m(self)\u001b[39m\n\u001b[32m     72\u001b[39m V_k_minus_1 = V_k.copy()\n\u001b[32m     73\u001b[39m \u001b[38;5;28;01mfor\u001b[39;00m state \u001b[38;5;129;01min\u001b[39;00m \u001b[38;5;28mself\u001b[39m.states:\n\u001b[32m---> \u001b[39m\u001b[32m74\u001b[39m     V_k[state] = \u001b[38;5;28;43mself\u001b[39;49m\u001b[43m.\u001b[49m\u001b[43m_bellmans_eq\u001b[49m\u001b[43m(\u001b[49m\u001b[43mstate\u001b[49m\u001b[43m \u001b[49m\u001b[43m=\u001b[49m\u001b[43m \u001b[49m\u001b[43mstate\u001b[49m\u001b[43m,\u001b[49m\u001b[43m \u001b[49m\u001b[43mvalues_dict\u001b[49m\u001b[43m \u001b[49m\u001b[43m=\u001b[49m\u001b[43m \u001b[49m\u001b[43mV_k_minus_1\u001b[49m\u001b[43m)\u001b[49m\n\u001b[32m     75\u001b[39m k += \u001b[32m1\u001b[39m\n\u001b[32m     76\u001b[39m \u001b[38;5;66;03m# lets see if we have reached tolerance, only after doing multiple iterations through incase of a slow start \u001b[39;00m\n",
      "\u001b[36mFile \u001b[39m\u001b[32mc:\\Users\\ellinghh\\Documents\\609-CW3\\brute_force_VI\\MDP.py:52\u001b[39m, in \u001b[36mGenericMDP._bellmans_eq\u001b[39m\u001b[34m(self, state, values_dict, extract_policy)\u001b[39m\n\u001b[32m     48\u001b[39m V_k = np.zeros(action_space) \n\u001b[32m     50\u001b[39m \u001b[38;5;28;01mfor\u001b[39;00m action \u001b[38;5;129;01min\u001b[39;00m \u001b[38;5;28mrange\u001b[39m(action_space):\n\u001b[32m     51\u001b[39m     \u001b[38;5;66;03m# this must be one scary looking summation\u001b[39;00m\n\u001b[32m---> \u001b[39m\u001b[32m52\u001b[39m     V_k[action] = \u001b[38;5;28;43msum\u001b[39;49m\u001b[43m(\u001b[49m\u001b[38;5;28;43mself\u001b[39;49m\u001b[43m.\u001b[49m\u001b[43mprobabilities\u001b[49m\u001b[43m[\u001b[49m\u001b[43mstate\u001b[49m\u001b[43m]\u001b[49m\u001b[43m[\u001b[49m\u001b[43maction\u001b[49m\u001b[43m]\u001b[49m\u001b[43m[\u001b[49m\u001b[43ms_prime\u001b[49m\u001b[43m]\u001b[49m\u001b[43m \u001b[49m\u001b[43m*\u001b[49m\u001b[43m \u001b[49m\u001b[43m\\\u001b[49m\n\u001b[32m     53\u001b[39m \u001b[43m                      \u001b[49m\u001b[43m(\u001b[49m\u001b[38;5;28;43mself\u001b[39;49m\u001b[43m.\u001b[49m\u001b[43mrewards_dict\u001b[49m\u001b[43m.\u001b[49m\u001b[43mget\u001b[49m\u001b[43m(\u001b[49m\u001b[43mstate\u001b[49m\u001b[43m,\u001b[49m\u001b[43m \u001b[49m\u001b[43m{\u001b[49m\u001b[43m}\u001b[49m\u001b[43m)\u001b[49m\u001b[43m.\u001b[49m\u001b[43mget\u001b[49m\u001b[43m(\u001b[49m\u001b[43maction\u001b[49m\u001b[43m,\u001b[49m\u001b[43m \u001b[49m\u001b[43m{\u001b[49m\u001b[43m}\u001b[49m\u001b[43m)\u001b[49m\u001b[43m.\u001b[49m\u001b[43mget\u001b[49m\u001b[43m(\u001b[49m\u001b[43ms_prime\u001b[49m\u001b[43m,\u001b[49m\u001b[32;43m0\u001b[39;49m\u001b[43m)\u001b[49m\u001b[43m \u001b[49m\u001b[43m+\u001b[49m\u001b[43m \u001b[49m\u001b[43m\\\u001b[49m\n\u001b[32m     54\u001b[39m \u001b[43m                      \u001b[49m\u001b[38;5;28;43mself\u001b[39;49m\u001b[43m.\u001b[49m\u001b[43mdiscount_rate\u001b[49m\u001b[43m \u001b[49m\u001b[43m*\u001b[49m\u001b[43m \u001b[49m\u001b[43mvalues_dict\u001b[49m\u001b[43m.\u001b[49m\u001b[43mget\u001b[49m\u001b[43m(\u001b[49m\u001b[43ms_prime\u001b[49m\u001b[43m,\u001b[49m\u001b[43m \u001b[49m\u001b[32;43m0\u001b[39;49m\u001b[43m)\u001b[49m\u001b[43m)\u001b[49m\u001b[43m \u001b[49m\u001b[43m\\\u001b[49m\n\u001b[32m     55\u001b[39m \u001b[43m                      \u001b[49m\u001b[38;5;28;43;01mfor\u001b[39;49;00m\u001b[43m \u001b[49m\u001b[43ms_prime\u001b[49m\u001b[43m \u001b[49m\u001b[38;5;129;43;01min\u001b[39;49;00m\u001b[43m \u001b[49m\u001b[38;5;28;43mself\u001b[39;49m\u001b[43m.\u001b[49m\u001b[43mprobabilities\u001b[49m\u001b[43m[\u001b[49m\u001b[43mstate\u001b[49m\u001b[43m]\u001b[49m\u001b[43m[\u001b[49m\u001b[43maction\u001b[49m\u001b[43m]\u001b[49m\u001b[43m)\u001b[49m\n\u001b[32m     56\u001b[39m \u001b[38;5;28;01mif\u001b[39;00m extract_policy == \u001b[38;5;28;01mFalse\u001b[39;00m:\n\u001b[32m     57\u001b[39m     \u001b[38;5;28;01mreturn\u001b[39;00m \u001b[38;5;28mmax\u001b[39m(V_k)\n",
      "\u001b[36mFile \u001b[39m\u001b[32mc:\\Users\\ellinghh\\Documents\\609-CW3\\brute_force_VI\\MDP.py:53\u001b[39m, in \u001b[36m<genexpr>\u001b[39m\u001b[34m(.0)\u001b[39m\n\u001b[32m     48\u001b[39m V_k = np.zeros(action_space) \n\u001b[32m     50\u001b[39m \u001b[38;5;28;01mfor\u001b[39;00m action \u001b[38;5;129;01min\u001b[39;00m \u001b[38;5;28mrange\u001b[39m(action_space):\n\u001b[32m     51\u001b[39m     \u001b[38;5;66;03m# this must be one scary looking summation\u001b[39;00m\n\u001b[32m     52\u001b[39m     V_k[action] = \u001b[38;5;28msum\u001b[39m(\u001b[38;5;28mself\u001b[39m.probabilities[state][action][s_prime] * \\\n\u001b[32m---> \u001b[39m\u001b[32m53\u001b[39m                       (\u001b[38;5;28;43mself\u001b[39;49m\u001b[43m.\u001b[49m\u001b[43mrewards_dict\u001b[49m\u001b[43m.\u001b[49m\u001b[43mget\u001b[49m\u001b[43m(\u001b[49m\u001b[43mstate\u001b[49m\u001b[43m,\u001b[49m\u001b[43m \u001b[49m\u001b[43m{\u001b[49m\u001b[43m}\u001b[49m\u001b[43m)\u001b[49m.get(action, {}).get(s_prime,\u001b[32m0\u001b[39m) + \\\n\u001b[32m     54\u001b[39m                       \u001b[38;5;28mself\u001b[39m.discount_rate * values_dict.get(s_prime, \u001b[32m0\u001b[39m)) \\\n\u001b[32m     55\u001b[39m                       \u001b[38;5;28;01mfor\u001b[39;00m s_prime \u001b[38;5;129;01min\u001b[39;00m \u001b[38;5;28mself\u001b[39m.probabilities[state][action])\n\u001b[32m     56\u001b[39m \u001b[38;5;28;01mif\u001b[39;00m extract_policy == \u001b[38;5;28;01mFalse\u001b[39;00m:\n\u001b[32m     57\u001b[39m     \u001b[38;5;28;01mreturn\u001b[39;00m \u001b[38;5;28mmax\u001b[39m(V_k)\n",
      "\u001b[31mKeyboardInterrupt\u001b[39m: "
     ]
    }
   ],
   "source": [
    "value_iteration = GenericMDP(states=states, \n",
    "                 actions = actions,\n",
    "                 probabilities=ps, \n",
    "                 rewards=rs, \n",
    "                 discount_rate=discount_rate, \n",
    "                 max_iterations=max_iterations)()"
   ]
  },
  {
   "cell_type": "code",
   "execution_count": null,
   "id": "e1f05f9b",
   "metadata": {},
   "outputs": [
    {
     "data": {
      "text/plain": [
       "<brute_force_VI.MDP.GenericMDP at 0x138f0379850>"
      ]
     },
     "execution_count": 12,
     "metadata": {},
     "output_type": "execute_result"
    }
   ],
   "source": [
    "value_iteration"
   ]
  },
  {
   "cell_type": "code",
   "execution_count": null,
   "id": "61a660ca",
   "metadata": {},
   "outputs": [],
   "source": []
  }
 ],
 "metadata": {
  "kernelspec": {
   "display_name": "env",
   "language": "python",
   "name": "python3"
  },
  "language_info": {
   "codemirror_mode": {
    "name": "ipython",
    "version": 3
   },
   "file_extension": ".py",
   "mimetype": "text/x-python",
   "name": "python",
   "nbconvert_exporter": "python",
   "pygments_lexer": "ipython3",
   "version": "3.12.0"
  }
 },
 "nbformat": 4,
 "nbformat_minor": 5
}
